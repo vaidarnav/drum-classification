{
 "cells": [
  {
   "cell_type": "code",
   "execution_count": 2,
   "metadata": {
    "collapsed": false,
    "deletable": true,
    "editable": true
   },
   "outputs": [
    {
     "name": "stderr",
     "output_type": "stream",
     "text": [
      "Using TensorFlow backend.\n"
     ]
    }
   ],
   "source": [
    "import keras\n",
    "import tensorflow as tf\n",
    "import numpy as np\n",
    "import matplotlib.pyplot as plt\n",
    "import scipy as sp\n",
    "import collections\n",
    "import os \n",
    "from __future__ import print_function\n",
    "from collections import Counter \n",
    "\n",
    "from keras.preprocessing import sequence\n",
    "from keras.models import Sequential\n",
    "from keras.layers import Dense, Embedding, core\n",
    "from keras.layers import LSTM\n",
    "\n",
    "from sklearn.preprocessing import MinMaxScaler\n",
    "from sklearn.metrics import mean_squared_error\n",
    "from sklearn.model_selection import train_test_split"
   ]
  },
  {
   "cell_type": "code",
   "execution_count": 3,
   "metadata": {
    "collapsed": false,
    "deletable": true,
    "editable": true
   },
   "outputs": [
    {
     "name": "stdout",
     "output_type": "stream",
     "text": [
      "{'./Snares & Claps': 2, './Kicks': 0, './Cymbals': 3, './Subbass': 1, './Snares & Claps/Claps': 2}\n"
     ]
    }
   ],
   "source": [
    "''' ['./Cymbals' './Kicks' './Snares & Claps' './Snares & Claps/Claps'\n",
    " './Subbass' './Vocals & Chants']\n",
    " '''\n",
    "dictionary = {}\n",
    "dictionary[\"./Kicks\"] = 0\n",
    "dictionary[\"./Subbass\"] = 1\n",
    "dictionary[\"./Snares & Claps\"] = 2\n",
    "dictionary[\"./Snares & Claps/Claps\"] = 2\n",
    "dictionary[\"./Cymbals\"] = 3\n",
    "print(dictionary)"
   ]
  },
  {
   "cell_type": "code",
   "execution_count": 4,
   "metadata": {
    "collapsed": true,
    "deletable": true,
    "editable": true
   },
   "outputs": [],
   "source": [
    "def minMaxNorm(data):\n",
    "    MAX = np.amax(data)\n",
    "    MIN = np.amin(data)\n",
    "    return (data-MIN)/(MAX-MIN)"
   ]
  },
  {
   "cell_type": "code",
   "execution_count": 5,
   "metadata": {
    "collapsed": true,
    "deletable": true,
    "editable": true
   },
   "outputs": [],
   "source": [
    "def listErrors(features, originalIndicies, dic):\n",
    "    # given array of features, original indicies of errors, label dictionary, return out names of errors and size of labels\n",
    "    error_lens = []\n",
    "    len_features = len(features)\n",
    "    error_labels = features[:, 1].reshape((len_features,1))[originalIndicies]\n",
    "    \n",
    "    for key, value in dic.iteritems():\n",
    "        error_lens.append( (key, len(np.where(error_labels[:] == key)[0])) )\n",
    "    \n",
    "    return (features[:, 0].reshape((len_features,1))[originalIndicies], error_lens)"
   ]
  },
  {
   "cell_type": "code",
   "execution_count": 6,
   "metadata": {
    "collapsed": false,
    "deletable": true,
    "editable": true
   },
   "outputs": [
    {
     "name": "stdout",
     "output_type": "stream",
     "text": [
      "['.DS_Store', '.floyddata', 'time_series_normalized.npy.npz']\n"
     ]
    }
   ],
   "source": [
    "dataDir = 'data'\n",
    "print(os.listdir(dataDir))\n",
    "dataSource = dataDir + '/time_series_normalized.npy.npz'\n",
    "#dataSource = 'data/fft_time_series.npy'\n",
    "\n",
    "f = np.load(dataSource)\n",
    "ind = f.files"
   ]
  },
  {
   "cell_type": "code",
   "execution_count": null,
   "metadata": {
    "collapsed": false,
    "deletable": true,
    "editable": true
   },
   "outputs": [],
   "source": [
    "features = f[ind[0]]"
   ]
  },
  {
   "cell_type": "code",
   "execution_count": null,
   "metadata": {
    "collapsed": false,
    "deletable": true,
    "editable": true
   },
   "outputs": [],
   "source": [
    "len_features = len(features)\n",
    "test_percent = 0.6\n",
    "testSize = int(len_features*test_percent)\n",
    "trainSize = len_features - testSize\n",
    "\n",
    "Y = features[0,1]\n",
    "X = features[0,2]\n",
    "\n",
    "print(Y.shape)\n",
    "\n",
    "# change target from strings -> numbers via dictionary\n",
    "all_Y = np.zeros((Y.shape[0],), dtype=int)\n",
    "for i in range(len(Y)):\n",
    "    all_Y[i] = int (dictionary[Y[i]])  \n",
    "\n",
    "# Convert into one-hot vectors\n",
    "num_labels = len(np.unique(all_Y))\n",
    "print(\"Number of Labels:\")\n",
    "print(num_labels)\n",
    "all_Y = np.eye(num_labels)[all_Y]  # One liner trick!\n",
    "indicies = np.arange(len(all_Y))\n",
    "\n",
    "train_X, test_X, train_Y, test_Y, indices_train, indices_test = train_test_split(X, all_Y, indicies, test_size=test_percent)\n",
    "\n",
    "print(\"Train Set Shape:\")\n",
    "print(train_X.shape)\n",
    "\n",
    "print(\"Test Set Shape:\")\n",
    "print(test_X.shape)\n",
    "\n",
    "print(\"Train Categories\")\n",
    "c1 = Counter([i for i in Y[indices_train]])\n",
    "print (c1.items()) \n",
    "print(\"Test Categories\")\n",
    "c1 = Counter([i for i in Y[indices_test]])\n",
    "print (c1.items()) \n",
    "print(\"Total Categories\")\n",
    "c1 = Counter([i for i in Y[:]])\n",
    "print (c1.items()) "
   ]
  },
  {
   "cell_type": "code",
   "execution_count": 1,
   "metadata": {
    "collapsed": false,
    "deletable": true,
    "editable": true
   },
   "outputs": [
    {
     "ename": "NameError",
     "evalue": "name 'train_X' is not defined",
     "output_type": "error",
     "traceback": [
      "\u001b[0;31m---------------------------------------------------------------------------\u001b[0m",
      "\u001b[0;31mNameError\u001b[0m                                 Traceback (most recent call last)",
      "\u001b[0;32m<ipython-input-1-a554d8def696>\u001b[0m in \u001b[0;36m<module>\u001b[0;34m()\u001b[0m\n\u001b[1;32m      2\u001b[0m \u001b[0mepochs\u001b[0m \u001b[0;34m=\u001b[0m \u001b[0;36m2\u001b[0m\u001b[0;34m\u001b[0m\u001b[0m\n\u001b[1;32m      3\u001b[0m \u001b[0;34m\u001b[0m\u001b[0m\n\u001b[0;32m----> 4\u001b[0;31m \u001b[0mlstm_nodes\u001b[0m \u001b[0;34m=\u001b[0m \u001b[0mtrain_X\u001b[0m\u001b[0;34m.\u001b[0m\u001b[0mshape\u001b[0m\u001b[0;34m[\u001b[0m\u001b[0;36m2\u001b[0m\u001b[0;34m]\u001b[0m\u001b[0;34m\u001b[0m\u001b[0m\n\u001b[0m\u001b[1;32m      5\u001b[0m \u001b[0mlayer1_nodes\u001b[0m \u001b[0;34m=\u001b[0m \u001b[0mlstm_nodes\u001b[0m\u001b[0;34m/\u001b[0m\u001b[0;36m2\u001b[0m\u001b[0;34m\u001b[0m\u001b[0m\n\u001b[1;32m      6\u001b[0m \u001b[0;34m\u001b[0m\u001b[0m\n",
      "\u001b[0;31mNameError\u001b[0m: name 'train_X' is not defined"
     ]
    }
   ],
   "source": [
    "batch_size = 32*2\n",
    "epochs = 2\n",
    "\n",
    "lstm_nodes = train_X.shape[2]\n",
    "layer1_nodes = lstm_nodes/2\n",
    "\n",
    "print('Build model...')\n",
    "model = Sequential()\n",
    "model.add(core.Masking(mask_value=0., input_shape=(train_X.shape[1], train_X.shape[2])))\n",
    "L = LSTM(lstm_nodes, return_sequences = False, dropout=0.2, recurrent_dropout=0.2)\n",
    "model.add( L )\n",
    "model.add( core.Dropout(.2))\n",
    "model.add( Dense(layer1_nodes, activation='sigmoid') )\n",
    "model.add( Dense(num_labels, activation='softmax') )\n",
    "#model.add( Dense(num_labels, activation='sigmoid') )\n",
    "\n",
    "loss_metric = 'categorical_crossentropy'\n",
    "optimizer_func = 'adam'\n",
    "\n",
    "# try using different optimizers and different optimizer configs\n",
    "model.compile(loss=loss_metric, optimizer=optimizer_func, metrics=['accuracy', 'categorical_accuracy'])\n",
    "\n",
    "\n",
    "print('Train...')\n",
    "model.fit(train_X, train_Y, batch_size=batch_size, epochs=epochs, validation_split=.2, validation_data=(test_X, test_Y))\n",
    "\"\"\"\n",
    "score, acc1, acc2 = model.evaluate(test_X, test_Y, batch_size=batch_size)\n",
    "print('Test score:', score)\n",
    "print('Test accuracy 1:', acc1)\n",
    "print('Test accuracy 2:', acc2)\n",
    "\"\"\""
   ]
  },
  {
   "cell_type": "code",
   "execution_count": null,
   "metadata": {
    "collapsed": false,
    "deletable": true,
    "editable": true
   },
   "outputs": [],
   "source": [
    "testPredict = np.argmax(model.predict(test_X), axis = 1)\n",
    "\n",
    "testGround = np.argmax(test_Y, axis = 1)\n",
    "errors = np.equal(testPredict, testGround)\n",
    "errorIndicies = np.where(errors == False)\n",
    "\n",
    "c1 = Counter([i for i in Y[errorIndicies]])\n",
    "print (c1.items()) \n",
    "c1 = Counter([i for i in Y[indices_test]])\n",
    "print (c1.items()) "
   ]
  },
  {
   "cell_type": "code",
   "execution_count": null,
   "metadata": {
    "collapsed": false,
    "deletable": true,
    "editable": true
   },
   "outputs": [],
   "source": []
  },
  {
   "cell_type": "code",
   "execution_count": null,
   "metadata": {
    "collapsed": false,
    "deletable": true,
    "editable": true
   },
   "outputs": [],
   "source": []
  },
  {
   "cell_type": "code",
   "execution_count": null,
   "metadata": {
    "collapsed": true,
    "deletable": true,
    "editable": true
   },
   "outputs": [],
   "source": [
    "def saveModel(weights, init, title):\n",
    "    # save network \n",
    "    for i in range(len(weights)):\n",
    "        tf.add_to_collection('vars', weights[i])\n",
    "    saver = tf.train.Saver()\n",
    "    sess = tf.Session()\n",
    "    sess.run(init)\n",
    "    saver.save(sess, title)"
   ]
  },
  {
   "cell_type": "code",
   "execution_count": null,
   "metadata": {
    "collapsed": false,
    "deletable": true,
    "editable": true
   },
   "outputs": [],
   "source": []
  },
  {
   "cell_type": "code",
   "execution_count": null,
   "metadata": {
    "collapsed": false,
    "deletable": true,
    "editable": true
   },
   "outputs": [],
   "source": []
  },
  {
   "cell_type": "code",
   "execution_count": null,
   "metadata": {
    "collapsed": true,
    "deletable": true,
    "editable": true
   },
   "outputs": [],
   "source": []
  }
 ],
 "metadata": {
  "kernelspec": {
   "display_name": "Python 2",
   "language": "python",
   "name": "python2"
  },
  "language_info": {
   "codemirror_mode": {
    "name": "ipython",
    "version": 2
   },
   "file_extension": ".py",
   "mimetype": "text/x-python",
   "name": "python",
   "nbconvert_exporter": "python",
   "pygments_lexer": "ipython2",
   "version": "2.7.13"
  }
 },
 "nbformat": 4,
 "nbformat_minor": 2
}
